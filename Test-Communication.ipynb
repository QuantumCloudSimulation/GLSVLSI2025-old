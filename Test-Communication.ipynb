{
 "cells": [
  {
   "cell_type": "markdown",
   "id": "4e43bf90-2e5d-4c41-a828-cb43a4ebe98f",
   "metadata": {},
   "source": [
    "### Unit testing for communication\n",
    "\n",
    "The following code snippet demonstrates the simplest device communication without feeding any jobs. "
   ]
  },
  {
   "cell_type": "code",
   "execution_count": 1,
   "id": "5df0472a-098b-474e-970c-a25045e6e43e",
   "metadata": {},
   "outputs": [
    {
     "name": "stdout",
     "output_type": "stream",
     "text": [
      "Starting device communication test...\n",
      "\n",
      "0.00: Communication between ibm_strasbourg1 and ibm_strasbourg2 started.\n",
      "0.45: Communication between ibm_strasbourg1 and ibm_strasbourg2 finished.\n",
      "5.00: Communication between ibm_strasbourg1 and ibm_strasbourg2 started.\n",
      "5.45: Communication between ibm_strasbourg1 and ibm_strasbourg2 finished.\n",
      "15.00: Communication between ibm_strasbourg1 and ibm_strasbourg2 started.\n",
      "15.15: Communication between ibm_strasbourg1 and ibm_strasbourg2 finished.\n",
      "30.00: Communication between ibm_strasbourg1 and ibm_strasbourg2 started.\n",
      "30.15: Communication between ibm_strasbourg1 and ibm_strasbourg2 finished.\n",
      "\n",
      "Device communication test completed.\n"
     ]
    }
   ],
   "source": [
    "from QCloud import *\n",
    "\n",
    "def test_device_comm():\n",
    "    # Set up the SimPy environment and random seed for reproducibility\n",
    "    random.seed(2)\n",
    "    env = simpy.Environment()\n",
    "\n",
    "    # Initialize two IBM Strasbourg devices for communication\n",
    "    ibm_strasbourg1 = IBM_Strasbourg(env, 'ibm_strasbourg1')\n",
    "    ibm_strasbourg2 = IBM_Strasbourg(env, 'ibm_strasbourg2')\n",
    "\n",
    "    # Initialize the QCloud instance\n",
    "    devices_list = [ibm_strasbourg1, ibm_strasbourg2]\n",
    "    event_bus = EventBus()  # Shared EventBus\n",
    "    job_records_manager = JobRecordsManager(event_bus)\n",
    "    qcloud = QCloud(env=env, devices=devices_list, job_records_manager=job_records_manager)\n",
    "\n",
    "    # Schedule multiple communication events between devices\n",
    "    print(\"Starting device communication test...\\n\")\n",
    "    \n",
    "    def schedule_communications(env, qcloud, delay, count):\n",
    "        \"\"\"Schedules communication processes with delays.\"\"\"\n",
    "        for i in range(count):\n",
    "            yield env.timeout(delay * i)  # Delay the start of each communication\n",
    "            qubit_required = random.randint(3,9)\n",
    "            env.process(qcloud.device_comm(ibm_strasbourg1, ibm_strasbourg2, qubit_required))\n",
    "\n",
    "    # Schedule 4 staggered communications every 5 time units\n",
    "    env.process(schedule_communications(env, qcloud, delay=5, count=4))\n",
    "    \n",
    "    # Run the simulation for a fixed duration\n",
    "    env.run(until=50)\n",
    "\n",
    "    print(\"\\nDevice communication test completed.\")\n",
    "\n",
    "# Run the test\n",
    "if __name__ == \"__main__\":\n",
    "    test_device_comm()"
   ]
  }
 ],
 "metadata": {
  "kernelspec": {
   "display_name": "Python 3 (ipykernel)",
   "language": "python",
   "name": "python3"
  },
  "language_info": {
   "codemirror_mode": {
    "name": "ipython",
    "version": 3
   },
   "file_extension": ".py",
   "mimetype": "text/x-python",
   "name": "python",
   "nbconvert_exporter": "python",
   "pygments_lexer": "ipython3",
   "version": "3.10.9"
  }
 },
 "nbformat": 4,
 "nbformat_minor": 5
}
