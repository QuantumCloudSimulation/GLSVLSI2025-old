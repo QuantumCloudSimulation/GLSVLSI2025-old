{
 "cells": [
  {
   "cell_type": "code",
   "execution_count": null,
   "id": "7fd4c3f3-3a0d-4e82-bf4d-0db6f72e1af2",
   "metadata": {},
   "outputs": [],
   "source": [
    "### deploying jobs from CSV file. \n",
    "\n",
    "from QCloud import *\n",
    "from collections import defaultdict\n",
    "\n",
    "# Create quantum devices\n",
    "ibm_strasbourg = IBM_Strasbourg(env=None, name=\"1\", printlog = False)\n",
    "ibm_strasbourg_2 = IBM_Strasbourg(env=None, name=\"2\", printlog = False)\n",
    "ibm_strasbourg_3 = IBM_Strasbourg(env=None, name=\"3\", printlog = False)\n",
    "ibm_strasbourg_4 = IBM_Strasbourg(env=None, name=\"4\", printlog = False)\n",
    "ibm_strasbourg_5 = IBM_Strasbourg(env=None, name=\"5\", printlog = False)\n",
    "ibm_strasbourg_6 = IBM_Strasbourg(env=None, name=\"6\", printlog = False)\n",
    "ibm_strasbourg_7 = IBM_Strasbourg(env=None, name=\"7\", printlog = False)\n",
    "\n",
    "devices = [ibm_strasbourg, ibm_strasbourg_2, ibm_strasbourg_3, ibm_strasbourg_4, ibm_strasbourg_5, ibm_strasbourg_6, ibm_strasbourg_7]\n",
    "# devices = [ibm_strasbourg, ibm_strasbourg_2]\n",
    "# Initialize and run the simulation using jobs from a CSV file\n",
    "\n",
    "sim_hours = defaultdict(list)\n",
    "exe_time = defaultdict(list)\n",
    "\n",
    "for num_device in range(1,8): \n",
    "    for _ in range(10): \n",
    "        start_time = time.time()        \n",
    "        qcloudsimenv = QCloudSimEnv(\n",
    "            devices=devices[0:num_device],\n",
    "            broker_class=ParallelBroker,\n",
    "            job_feed_method=\"dispatcher\",\n",
    "            # file_path=\"jobs_data.csv\"\n",
    "            file_path=\"synth_job_batches/small-jobs.csv\"\n",
    "        )\n",
    "        qcloudsimenv.run()\n",
    "        \n",
    "        end_time = time.time() # End the timer\n",
    "        elapsed_time = end_time - start_time # Calculate elapsed time\n",
    "        # print(qcloudsimenv.now)\n",
    "        sim_hours[num_device].append(qcloudsimenv.now)        \n",
    "        # print(f\"Elapsed time: {elapsed_time:.5f} seconds\")\n",
    "        exe_time[num_device].append(round(elapsed_time,5))\n",
    "    print(f\"finish one loop for num devices: {num_device}\")    \n",
    "# Access job records after the simulation\n",
    "# job_records = qcloudsimenv.job_records_manager.get_job_records()\n",
    "# for job_id, events in job_records.items():\n",
    "#     print(f\"Job ID: {job_id}, Events: {events}\")\n"
   ]
  },
  {
   "cell_type": "code",
   "execution_count": null,
   "id": "291c31fb-750b-4ed1-8eab-21d19aa9eef3",
   "metadata": {},
   "outputs": [],
   "source": [
    "print(sim_hours)\n",
    "print(exe_time)"
   ]
  },
  {
   "cell_type": "code",
   "execution_count": null,
   "id": "64ca2305-c28c-4dde-b31c-089909c4100c",
   "metadata": {},
   "outputs": [],
   "source": [
    "import numpy as np\n",
    "\n",
    "avg_sim_hours = []\n",
    "std_sim_hours = []\n",
    "avg_exe_time = []\n",
    "std_exe_time = []\n",
    "\n",
    "for i in range(1, 8):\n",
    "    # Compute the average (mean)\n",
    "    avg_sim_hours.append(round(np.mean(sim_hours[i])/60, 4))\n",
    "    avg_exe_time.append(np.mean(exe_time[i]))\n",
    "    # Compute the standard deviation\n",
    "    std_sim_hours.append(round(np.std(sim_hours[i])/60, 4))\n",
    "    std_exe_time.append(np.std(exe_time[i]))\n"
   ]
  },
  {
   "cell_type": "code",
   "execution_count": null,
   "id": "35a33591-54ec-42a0-a37e-d52803de3486",
   "metadata": {},
   "outputs": [],
   "source": [
    "avg_sim_hours"
   ]
  },
  {
   "cell_type": "code",
   "execution_count": null,
   "id": "aba49315-d590-414a-9081-b065984158f6",
   "metadata": {},
   "outputs": [],
   "source": [
    "std_sim_hours"
   ]
  },
  {
   "cell_type": "code",
   "execution_count": null,
   "id": "c35f5859-0ee4-446e-b3f5-346f1ed84592",
   "metadata": {},
   "outputs": [],
   "source": [
    "for a, s in zip(avg_sim_hours, std_sim_hours):\n",
    "    print(s/a)"
   ]
  },
  {
   "cell_type": "code",
   "execution_count": null,
   "id": "0c3a9cf5-0494-4fb0-85fd-2ea8ef833339",
   "metadata": {},
   "outputs": [],
   "source": [
    "avg_exe_time"
   ]
  },
  {
   "cell_type": "code",
   "execution_count": null,
   "id": "fe680f3a-bc59-4558-be4a-2e4ad22aa823",
   "metadata": {},
   "outputs": [],
   "source": [
    "total_mins = 0\n",
    "for t in avg_exe_time: \n",
    "    total_mins +=(t*10/60)\n",
    "total_mins\n"
   ]
  },
  {
   "cell_type": "code",
   "execution_count": null,
   "id": "244014ac-051a-4743-b8a5-b066105ada32",
   "metadata": {},
   "outputs": [],
   "source": [
    "std_exe_time"
   ]
  },
  {
   "cell_type": "code",
   "execution_count": null,
   "id": "bcddcd90-1f49-4e5c-8a16-efcf8ad43853",
   "metadata": {},
   "outputs": [],
   "source": [
    "### deploying jobs from CSV file. \n",
    "\n",
    "from QCloud import *\n",
    "from collections import defaultdict\n",
    "\n",
    "# Create quantum devices\n",
    "ibm_kyiv = IBM_Kyiv(env=None, name=\"1\", printlog = False)\n",
    "ibm_kyiv_2 = IBM_Kyiv(env=None, name=\"2\", printlog = False)\n",
    "ibm_kyiv_3 = IBM_Kyiv(env=None, name=\"3\", printlog = False)\n",
    "ibm_kyiv_4 = IBM_Kyiv(env=None, name=\"4\", printlog = False)\n",
    "ibm_kyiv_5 = IBM_Kyiv(env=None, name=\"5\", printlog = False)\n",
    "ibm_kyiv_6 = IBM_Kyiv(env=None, name=\"6\", printlog = False)\n",
    "ibm_kyiv_7 = IBM_Kyiv(env=None, name=\"7\", printlog = False)\n",
    "\n",
    "devices = [ibm_kyiv, ibm_kyiv_2, ibm_kyiv_3, ibm_kyiv_4, ibm_kyiv_5, ibm_kyiv_6, ibm_kyiv_7]\n",
    "# devices = [ibm_kyiv, ibm_kyiv_2]\n",
    "# Initialize and run the simulation using jobs from a CSV file\n",
    "\n",
    "sim_hours = defaultdict(list)\n",
    "exe_time = defaultdict(list)\n",
    "\n",
    "for num_device in range(1,8): \n",
    "    for _ in range(10): \n",
    "        start_time = time.time()        \n",
    "        qcloudsimenv = QCloudSimEnv(\n",
    "            devices=devices[0:num_device],\n",
    "            broker_class=ParallelBroker,\n",
    "            job_feed_method=\"dispatcher\",\n",
    "            # file_path=\"jobs_data.csv\"\n",
    "            file_path=\"synth_job_batches/small-jobs.csv\"\n",
    "        )\n",
    "        qcloudsimenv.run()\n",
    "        \n",
    "        end_time = time.time() # End the timer\n",
    "        elapsed_time = end_time - start_time # Calculate elapsed time\n",
    "        # print(qcloudsimenv.now)\n",
    "        sim_hours[num_device].append(qcloudsimenv.now)        \n",
    "        # print(f\"Elapsed time: {elapsed_time:.5f} seconds\")\n",
    "        exe_time[num_device].append(round(elapsed_time,5))\n",
    "    print(f\"finish one loop for num devices: {num_device}\")    \n",
    "# Access job records after the simulation\n",
    "# job_records = qcloudsimenv.job_records_manager.get_job_records()\n",
    "# for job_id, events in job_records.items():\n",
    "#     print(f\"Job ID: {job_id}, Events: {events}\")"
   ]
  },
  {
   "cell_type": "code",
   "execution_count": null,
   "id": "83cb669f-5b09-48f8-b642-318d951e6e0f",
   "metadata": {},
   "outputs": [],
   "source": [
    "import numpy as np\n",
    "\n",
    "avg_sim_hours = []\n",
    "std_sim_hours = []\n",
    "avg_exe_time = []\n",
    "std_exe_time = []\n",
    "\n",
    "for i in range(1, 8):\n",
    "    # Compute the average (mean)\n",
    "    avg_sim_hours.append(round(np.mean(sim_hours[i])/60, 4))\n",
    "    avg_exe_time.append(np.mean(exe_time[i]))\n",
    "    # Compute the standard deviation\n",
    "    std_sim_hours.append(round(np.std(sim_hours[i])/60, 4))\n",
    "    std_exe_time.append(np.std(exe_time[i]))"
   ]
  },
  {
   "cell_type": "code",
   "execution_count": null,
   "id": "3478faac-6c1c-44e9-8552-0103fa469c82",
   "metadata": {},
   "outputs": [],
   "source": [
    "avg_sim_hours"
   ]
  },
  {
   "cell_type": "code",
   "execution_count": null,
   "id": "ec72791c-c6e7-4e9a-9954-60ca89c0684d",
   "metadata": {},
   "outputs": [],
   "source": [
    "std_sim_hours"
   ]
  },
  {
   "cell_type": "code",
   "execution_count": null,
   "id": "2e547ec2-89c7-47db-9137-0cf59c7c43f6",
   "metadata": {},
   "outputs": [],
   "source": [
    "avg_exe_time"
   ]
  },
  {
   "cell_type": "code",
   "execution_count": null,
   "id": "2cbb8179-1ec9-4b3d-8074-40692aecb5e1",
   "metadata": {},
   "outputs": [],
   "source": [
    "std_exe_time"
   ]
  },
  {
   "cell_type": "code",
   "execution_count": null,
   "id": "4b9ff83a-07d2-4d00-bd3f-ece0ac645859",
   "metadata": {},
   "outputs": [],
   "source": []
  },
  {
   "cell_type": "code",
   "execution_count": null,
   "id": "c60da448-7e7f-45fa-815e-064c00468ce3",
   "metadata": {},
   "outputs": [],
   "source": []
  }
 ],
 "metadata": {
  "kernelspec": {
   "display_name": "Python 3 (ipykernel)",
   "language": "python",
   "name": "python3"
  },
  "language_info": {
   "codemirror_mode": {
    "name": "ipython",
    "version": 3
   },
   "file_extension": ".py",
   "mimetype": "text/x-python",
   "name": "python",
   "nbconvert_exporter": "python",
   "pygments_lexer": "ipython3",
   "version": "3.10.9"
  }
 },
 "nbformat": 4,
 "nbformat_minor": 5
}
