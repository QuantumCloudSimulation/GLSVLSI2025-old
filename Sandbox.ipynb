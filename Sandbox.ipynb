{
 "cells": [
  {
   "cell_type": "code",
   "execution_count": 1,
   "id": "bb70dba0-16ac-4f30-9116-bc49bb7acb8f",
   "metadata": {},
   "outputs": [],
   "source": [
    "from QCloud import *\n",
    "import numpy as np\n",
    "\n",
    "def sum_nested_list(nested_list):\n",
    "    total_sum = 0\n",
    "    for item in nested_list:\n",
    "        if isinstance(item, list):  # If the item is a list, sum its elements\n",
    "            total_sum += sum(item)\n",
    "        else:  # If it's a number, add it directly\n",
    "            total_sum += item\n",
    "    return total_sum\n",
    "\n",
    "def calculate_fidelity(job_records):\n",
    "    fidelity = []\n",
    "    for job_id, events in job_records.items():\n",
    "        # print(f\"Job ID: {job_id}, Events: {events}\")\n",
    "        fidelity.append(events['fidelity'])\n",
    "    print(f'fidelity: {round(np.mean(fidelity), 5)}')\n",
    "    \n",
    "def calculate_comm_time(job_records): \n",
    "    comm_time = []\n",
    "    for job_id, events in job_records.items():\n",
    "        # print(f\"Job ID: {job_id}, Events: {events['fidelity']}\")\n",
    "        comm_time.append(events['comm_time'])\n",
    "    print(f'Comm time: {round(sum_nested_list(comm_time), 5)}')"
   ]
  },
  {
   "cell_type": "code",
   "execution_count": 2,
   "id": "da07b4ea",
   "metadata": {},
   "outputs": [
    {
     "name": "stdout",
     "output_type": "stream",
     "text": [
      "Allocation mode: simple\n",
      "Total Sim-time: 2169.1984848484844\n",
      "fidelity: 0.65203\n",
      "Comm time: 486.1\n",
      "---------------------------\n",
      "Allocation mode: smart\n",
      "Total Sim-time: 2794.93303030303\n",
      "fidelity: 0.75393\n",
      "Comm time: 381.04\n",
      "---------------------------\n",
      "Allocation mode: fast\n",
      "Total Sim-time: 2794.93303030303\n",
      "fidelity: 0.75393\n",
      "Comm time: 381.04\n",
      "---------------------------\n"
     ]
    }
   ],
   "source": [
    "# deploying jobs from CSV file. \n",
    "allocation_mode = ['simple', 'smart', 'fast']\n",
    "\n",
    "for al_mode in allocation_mode: \n",
    "    # Create quantum devices\n",
    "    ibm_strasbourg = IBM_Strasbourg(env=None, name=\"ibm_strasbourg\", cali_filepath='QCloud/calibration/ibm_fez_calibrations_2025-01-13T16_54_24Z.csv', printlog = False)\n",
    "    ibm_strasbourg_2 = IBM_Strasbourg(env=None, name=\"ibm_strasbourg_2\", cali_filepath='QCloud/calibration/ibm_fez_calibrations_2025-01-27T02_38_59Z.csv', printlog = False)\n",
    "    ibm_strasbourg_3 = IBM_Strasbourg(env=None, name=\"ibm_strasbourg_3\", cali_filepath='QCloud/calibration/ibm_sherbrooke_calibrations_2025-01-27T01_21_59Z.csv', printlog = False)\n",
    "    ibm_strasbourg_4 = IBM_Strasbourg(env=None, name=\"ibm_strasbourg_4\", cali_filepath='QCloud/calibration/ibm_marrakesh_calibrations_2025-01-27T02_15_29Z.csv', printlog = False)\n",
    "    ibm_strasbourg_5 = IBM_Strasbourg(env=None, name=\"ibm_strasbourg_5\", cali_filepath='QCloud/calibration/ibm_brussels_calibrations_2025-01-27T02_05_27Z.csv', printlog = False)\n",
    "    # devices = [ibm_strasbourg, ibm_strasbourg_2, ibm_strasbourg_3, ibm_strasbourg_4, ibm_strasbourg_5]\n",
    "    devices = [ibm_strasbourg, ibm_strasbourg_2, ibm_strasbourg_3, ibm_strasbourg_4, ibm_strasbourg_5]\n",
    "    # Initialize and run the simulation using jobs from a CSV file\n",
    "    qcloudsimenv = QCloudSimEnv(\n",
    "        devices=devices,\n",
    "        broker_class=ParallelBroker,\n",
    "        job_feed_method=\"dispatcher\",\n",
    "        file_path=\"synth_job_batches/100-large-circuits.csv\", \n",
    "        allocation_mode=al_mode,\n",
    "        printlog = False\n",
    "    )\n",
    "    qcloudsimenv.run()\n",
    "    print(f'Allocation mode: {al_mode}')\n",
    "    print(f'Total Sim-time: {qcloudsimenv.now}')\n",
    "    \n",
    "    # Calculate Fidelity and communication time\n",
    "    # Access job records after the simulation\n",
    "    job_records = qcloudsimenv.job_records_manager.get_job_records()\n",
    "    calculate_fidelity(job_records)\n",
    "    calculate_comm_time(job_records)\n",
    "    print('---------------------------')"
   ]
  },
  {
   "cell_type": "code",
   "execution_count": null,
   "id": "2a90dbd3-96b3-4fa6-8d0e-ebae85000584",
   "metadata": {},
   "outputs": [],
   "source": []
  }
 ],
 "metadata": {
  "kernelspec": {
   "display_name": "Python 3 (ipykernel)",
   "language": "python",
   "name": "python3"
  },
  "language_info": {
   "codemirror_mode": {
    "name": "ipython",
    "version": 3
   },
   "file_extension": ".py",
   "mimetype": "text/x-python",
   "name": "python",
   "nbconvert_exporter": "python",
   "pygments_lexer": "ipython3",
   "version": "3.10.9"
  }
 },
 "nbformat": 4,
 "nbformat_minor": 5
}
