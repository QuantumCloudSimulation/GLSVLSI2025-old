{
 "cells": [
  {
   "cell_type": "code",
   "execution_count": 1,
   "id": "8acf1d64-c0b1-4655-90ea-9ed8c8fffe63",
   "metadata": {},
   "outputs": [
    {
     "name": "stdout",
     "output_type": "stream",
     "text": [
      "21.62: ibm_kyiv received job #1 requiring 9 qubits.\n",
      "21.62: Job #1 will take 345.9050 sim-mins on ibm_kyiv.\n",
      "24.18: ibm_kyiv received job #2 requiring 9 qubits.\n",
      "24.18: Job #2 will take 265.6267 sim-mins on ibm_kyiv.\n",
      "34.09: ibm_kyiv received job #3 requiring 12 qubits.\n",
      "34.09: Job #3 will take 136.4650 sim-mins on ibm_kyiv.\n",
      "36.86: ibm_kyiv received job #4 requiring 6 qubits.\n",
      "36.86: Job #4 will take 203.1711 sim-mins on ibm_kyiv.\n",
      "56.84: ibm_kyiv received job #5 requiring 5 qubits.\n",
      "56.84: Job #5 will take 229.3589 sim-mins on ibm_kyiv.\n",
      "57.05: ibm_kyiv received job #6 requiring 20 qubits.\n",
      "57.05: Job #6 will take 279.5061 sim-mins on ibm_kyiv.\n",
      "58.46: ibm_kyiv received job #7 requiring 19 qubits.\n",
      "58.46: Job #7 will take 362.6467 sim-mins on ibm_kyiv.\n",
      "88.44: ibm_kyiv received job #8 requiring 11 qubits.\n",
      "88.44: Job #8 will take 86.2167 sim-mins on ibm_kyiv.\n",
      "90.34: ibm_kyiv received job #9 requiring 9 qubits.\n",
      "90.34: Job #9 will take 308.2567 sim-mins on ibm_kyiv.\n",
      "98.69: ibm_kyiv received job #10 requiring 6 qubits.\n",
      "98.69: Job #10 will take 92.2833 sim-mins on ibm_kyiv.\n"
     ]
    }
   ],
   "source": [
    "from QCloud import *\n",
    "qcloudsimenv = QCloudSimEnv(devices=[IBM_Kyiv(env=None, name=\"ibm_kyiv\", printlog = True)],\n",
    "                    broker_class=ParallelBroker, job_feed_method=\"generator\",\n",
    "                    job_generation_model=lambda: random.expovariate(lambd=0.1))\n",
    "qcloudsimenv.run(until=100)"
   ]
  },
  {
   "cell_type": "code",
   "execution_count": null,
   "id": "e7085bc3-8549-4a23-91bd-ce004d0d0628",
   "metadata": {},
   "outputs": [],
   "source": []
  }
 ],
 "metadata": {
  "kernelspec": {
   "display_name": "Python 3 (ipykernel)",
   "language": "python",
   "name": "python3"
  },
  "language_info": {
   "codemirror_mode": {
    "name": "ipython",
    "version": 3
   },
   "file_extension": ".py",
   "mimetype": "text/x-python",
   "name": "python",
   "nbconvert_exporter": "python",
   "pygments_lexer": "ipython3",
   "version": "3.10.9"
  }
 },
 "nbformat": 4,
 "nbformat_minor": 5
}
