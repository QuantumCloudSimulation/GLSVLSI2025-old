{
 "cells": [
  {
   "cell_type": "markdown",
   "id": "627ee867-3b92-429f-a753-5d66a0e3d0cf",
   "metadata": {},
   "source": [
    "### Example usage of Event Bus"
   ]
  },
  {
   "cell_type": "code",
   "execution_count": 8,
   "id": "0eff6d9d-41c8-4b89-a35f-01ff5b6ca093",
   "metadata": {},
   "outputs": [],
   "source": [
    "from QCloud import *\n",
    "\n",
    "ibm_strasbourg = IBM_Strasbourg(env=None, name=\"ibm_strasbourg\", cali_filepath='QCloud/calibration/ibm_fez_calibrations_2025-01-13T16_54_24Z.csv', printlog = False)\n",
    "devices = [ibm_strasbourg]\n",
    "\n",
    "qcloudsimenv = QCloudSimEnv(\n",
    "    devices=devices,\n",
    "    broker_class=ParallelBroker,\n",
    "    job_feed_method=\"dispatcher\",\n",
    "    file_path=\"synth_job_batches/large-circuits-jobs.csv\", \n",
    "    printlog = False\n",
    ")\n",
    "\n",
    "def log_job_created(data):\n",
    "    print(f\"Job Created: {data['job_id']} at {data['timestamp']}\")\n",
    "\n",
    "def log_device_start(data):\n",
    "    print(f\"Device {data['device']} started processing job {data['job_id']} at {data['timestamp']}\")\n",
    "\n",
    "# Subscribe to events\n",
    "qcloudsimenv.event_bus.subscribe(\"job_created\", log_job_created)\n",
    "qcloudsimenv.event_bus.subscribe(\"device_start\", log_device_start)"
   ]
  },
  {
   "cell_type": "code",
   "execution_count": null,
   "id": "050484b9-3b4a-4140-8edb-5ba620284e39",
   "metadata": {},
   "outputs": [],
   "source": []
  }
 ],
 "metadata": {
  "kernelspec": {
   "display_name": "Python 3 (ipykernel)",
   "language": "python",
   "name": "python3"
  },
  "language_info": {
   "codemirror_mode": {
    "name": "ipython",
    "version": 3
   },
   "file_extension": ".py",
   "mimetype": "text/x-python",
   "name": "python",
   "nbconvert_exporter": "python",
   "pygments_lexer": "ipython3",
   "version": "3.10.9"
  }
 },
 "nbformat": 4,
 "nbformat_minor": 5
}
