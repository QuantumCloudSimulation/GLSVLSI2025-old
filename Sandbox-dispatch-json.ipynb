{
 "cells": [
  {
   "cell_type": "code",
   "execution_count": null,
   "id": "586b3e09-2eed-468b-ae8d-0d1726caf1ca",
   "metadata": {},
   "outputs": [],
   "source": [
    "# deploying jobs from CSV file. \n",
    "\n",
    "from QCloud import *\n",
    "\n",
    "# Create quantum devices\n",
    "ibm_strasbourg = IBM_Strasbourg(env=None, name=\"ibm_strasbourg\")\n",
    "ibm_strasbourg_2 = IBM_Strasbourg(env=None, name=\"ibm_strasbourg_2\")\n",
    "ibm_strasbourg_3 = IBM_Strasbourg(env=None, name=\"ibm_strasbourg_3\")\n",
    "devices = [ibm_strasbourg, ibm_strasbourg_2, ibm_strasbourg_3]\n",
    "\n",
    "# Initialize and run the simulation using jobs from a CSV file\n",
    "qcloudsimenv = QCloudSimEnv(\n",
    "    devices=devices,\n",
    "    broker_class=ParallelBroker,\n",
    "    job_feed_method=\"dispatcher\",\n",
    "    file_path=\"synth_job_batches/small-jobs.csv\"\n",
    ")\n",
    "qcloudsimenv.run()\n",
    "\n",
    "# Access job records after the simulation\n",
    "job_records = qcloudsimenv.job_records_manager.get_job_records()\n",
    "for job_id, events in job_records.items():\n",
    "    print(f\"Job ID: {job_id}, Events: {events}\")"
   ]
  },
  {
   "cell_type": "code",
   "execution_count": null,
   "id": "6b89178a-511c-44a6-9c2d-e57405c30923",
   "metadata": {},
   "outputs": [],
   "source": [
    "# deploying jobs from JSON file. \n",
    "\n",
    "from QCloud import *\n",
    "\n",
    "# Create quantum devices\n",
    "ibm_strasbourg = IBM_Strasbourg(env=None, name=\"ibm_strasbourg\", printlog = False)\n",
    "ibm_strasbourg_2 = IBM_Strasbourg(env=None, name=\"ibm_strasbourg_2\", printlog = False)\n",
    "ibm_strasbourg_3 = IBM_Strasbourg(env=None, name=\"ibm_strasbourg_3\", printlog = False)\n",
    "ibm_strasbourg_4 = IBM_Strasbourg(env=None, name=\"ibm_strasbourg_4\", printlog = False)\n",
    "devices = [ibm_strasbourg, ibm_strasbourg_2, ibm_strasbourg_3, ibm_strasbourg_4]\n",
    "\n",
    "start_time = time.time() # Start the timer\n",
    "\n",
    "# Initialize and run the simulation using jobs from a CSV file\n",
    "qcloudsimenv = QCloudSimEnv(\n",
    "    devices=devices,\n",
    "    broker_class=ParallelBroker,\n",
    "    job_feed_method=\"dispatcher\",\n",
    "    file_path=\"synth_job_batches/QCloudSimJobs_MQT_ibm-3-5.json\"\n",
    ")\n",
    "qcloudsimenv.run(until=6400)\n",
    "\n",
    "end_time = time.time() # End the timer\n",
    "elapsed_time = end_time - start_time # Calculate elapsed time\n",
    "\n",
    "print(f\"Elapsed time: {elapsed_time:.5f} seconds\")\n",
    "# Access job records after the simulation\n",
    "job_records = qcloudsimenv.job_records_manager.get_job_records()\n",
    "for job_id, events in job_records.items():\n",
    "    print(f\"Job ID: {job_id}, Events: {events}\")"
   ]
  }
 ],
 "metadata": {
  "kernelspec": {
   "display_name": "Python 3 (ipykernel)",
   "language": "python",
   "name": "python3"
  },
  "language_info": {
   "codemirror_mode": {
    "name": "ipython",
    "version": 3
   },
   "file_extension": ".py",
   "mimetype": "text/x-python",
   "name": "python",
   "nbconvert_exporter": "python",
   "pygments_lexer": "ipython3",
   "version": "3.10.9"
  }
 },
 "nbformat": 4,
 "nbformat_minor": 5
}
