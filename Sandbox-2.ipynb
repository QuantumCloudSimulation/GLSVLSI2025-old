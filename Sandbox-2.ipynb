{
 "cells": [
  {
   "cell_type": "code",
   "execution_count": 3,
   "id": "c4fc3852-19b3-43ea-aa9c-8a3ed10793f4",
   "metadata": {},
   "outputs": [],
   "source": [
    "from QCloud import *\n",
    "import numpy as np\n",
    "\n",
    "def sum_nested_list(nested_list):\n",
    "    total_sum = 0\n",
    "    for item in nested_list:\n",
    "        if isinstance(item, list):  # If the item is a list, sum its elements\n",
    "            total_sum += sum(item)\n",
    "        else:  # If it's a number, add it directly\n",
    "            total_sum += item\n",
    "    return total_sum\n",
    "\n",
    "def calculate_fidelity(job_records):\n",
    "    fidelity = []\n",
    "    for job_id, events in job_records.items():\n",
    "        # print(f\"Job ID: {job_id}, Events: {events}\")\n",
    "        fidelity.append(events['fidelity'])\n",
    "    print(f'fidelity: {round(np.mean(fidelity), 5)}')\n",
    "    \n",
    "def calculate_comm_time(job_records): \n",
    "    comm_time = []\n",
    "    for job_id, events in job_records.items():\n",
    "        # print(f\"Job ID: {job_id}, Events: {events}\")\n",
    "        comm_time.append(events['comm_time'])\n",
    "    print(f'Comm time: {round(sum_nested_list(comm_time), 5)}')"
   ]
  },
  {
   "cell_type": "code",
   "execution_count": 5,
   "id": "da07b4ea",
   "metadata": {},
   "outputs": [
    {
     "name": "stdout",
     "output_type": "stream",
     "text": [
      "Allocation mode: simple\n",
      "Total Sim-time: 108775.38448275859\n",
      "fidelity: 0.6699\n",
      "Comm time: 5707.8\n",
      "---------------------------\n",
      "Allocation mode: smart\n",
      "Total Sim-time: 209299.9795019161\n",
      "fidelity: 0.73175\n",
      "Comm time: 3822.74\n",
      "---------------------------\n",
      "Allocation mode: fast\n",
      "Total Sim-time: 199035.97781609147\n",
      "fidelity: 0.73019\n",
      "Comm time: 4015.8\n",
      "---------------------------\n"
     ]
    }
   ],
   "source": [
    "# deploying jobs from CSV file. \n",
    "allocation_mode = ['simple', 'smart', 'fast']\n",
    "\n",
    "for al_mode in allocation_mode: \n",
    "    # Create quantum devices\n",
    "    ibm_strasbourg = IBM_Strasbourg(env=None, name=\"ibm_strasbourg\", cali_filepath='QCloud/calibration/ibm_strasbourg_calibrations_2025-01-27T01_46_00Z.csv', printlog = False)\n",
    "    ibm_brussels = IBM_Brussels(env=None, name=\"ibm_brussels\", cali_filepath='QCloud/calibration/ibm_brussels_calibrations_2025-01-27T02_05_27Z.csv', printlog = False)\n",
    "    ibm_kyiv = IBM_Kyiv(env=None, name=\"ibm_kyiv\", cali_filepath='QCloud/calibration/ibm_kyiv_calibrations_2025-01-27T01_45_58Z.csv', printlog = False)\n",
    "    ibm_quebec = IBM_Quebec(env=None, name=\"ibm_quebec\", cali_filepath='QCloud/calibration/ibm_quebec_calibrations_2025-01-27T01_33_28Z.csv', printlog = False)\n",
    "    ibm_kawasaki = IBM_Kawasaki(env=None, name=\"ibm_kawasaki\", cali_filepath='QCloud/calibration/ibm_kawasaki_calibrations_2025-01-27T00_39_16Z.csv', printlog = False)\n",
    "\n",
    "    devices = [ibm_strasbourg, ibm_brussels, ibm_kyiv, ibm_quebec, ibm_kawasaki]\n",
    "\n",
    "    # Initialize and run the simulation using jobs from a CSV file\n",
    "    qcloudsimenv = QCloudSimEnv(\n",
    "        devices=devices,\n",
    "        broker_class=ParallelBroker,\n",
    "        job_feed_method=\"dispatcher\",\n",
    "        file_path=\"synth_job_batches/1000-large-circuits.csv\", \n",
    "        allocation_mode=al_mode,\n",
    "        printlog = False\n",
    "    )\n",
    "    qcloudsimenv.run()\n",
    "    print(f'Allocation mode: {al_mode}')\n",
    "    print(f'Total Sim-time: {qcloudsimenv.now}')\n",
    "\n",
    "    # Calculate Fidelity and communication time\n",
    "    # Access job records after the simulation\n",
    "    job_records = qcloudsimenv.job_records_manager.get_job_records()\n",
    "    calculate_fidelity(job_records)\n",
    "    calculate_comm_time(job_records)\n",
    "    print('---------------------------')"
   ]
  },
  {
   "cell_type": "code",
   "execution_count": 14,
   "id": "b70a5714-1a81-432c-95ad-daaa1fd2f54a",
   "metadata": {},
   "outputs": [
    {
     "name": "stdout",
     "output_type": "stream",
     "text": [
      "321.8390804597701\n"
     ]
    }
   ],
   "source": [
    "import math \n",
    "Kyiv_clops=30000  \n",
    "Kyiv_qvol = 128\n",
    "\n",
    "Kawasaki_clops=29000  \n",
    "Kawasaki_qvol = 128  \n",
    "\n",
    "Quebec_clops=32000  \n",
    "Quebec_qvol = 128\n",
    "\n",
    "Brussels_clops=220000\n",
    "Brussels_qvol = 128\n",
    "\n",
    "Strasbourg_clops=220000  # updated real data on 01-26-2025\n",
    "Strasbourg_qvol = 128\n",
    "\n",
    "clops = Kawasaki_clops\n",
    "qvol = Kawasaki_qvol\n",
    "\n",
    "M = 100\n",
    "K = 10\n",
    "S = 80000\n",
    "D = math.log2(qvol)\n",
    "\n",
    "print(M * K * S * D / clops / 60)"
   ]
  },
  {
   "cell_type": "code",
   "execution_count": 15,
   "id": "b39d1805-1aa6-4957-a897-b79a2ea54503",
   "metadata": {},
   "outputs": [
    {
     "data": {
      "text/plain": [
       "328.2390804597701"
      ]
     },
     "execution_count": 15,
     "metadata": {},
     "output_type": "execute_result"
    }
   ],
   "source": [
    "321.8390804597701 + 6.4"
   ]
  },
  {
   "cell_type": "code",
   "execution_count": null,
   "id": "fde235ee-fc31-41e9-87d0-9b85a35431b1",
   "metadata": {},
   "outputs": [],
   "source": []
  }
 ],
 "metadata": {
  "kernelspec": {
   "display_name": "Python 3 (ipykernel)",
   "language": "python",
   "name": "python3"
  },
  "language_info": {
   "codemirror_mode": {
    "name": "ipython",
    "version": 3
   },
   "file_extension": ".py",
   "mimetype": "text/x-python",
   "name": "python",
   "nbconvert_exporter": "python",
   "pygments_lexer": "ipython3",
   "version": "3.10.9"
  }
 },
 "nbformat": 4,
 "nbformat_minor": 5
}
